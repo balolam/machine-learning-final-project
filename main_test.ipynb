{
 "cells": [
  {
   "cell_type": "code",
   "execution_count": 1,
   "metadata": {
    "collapsed": true
   },
   "outputs": [],
   "source": [
    "from sklearn.feature_extraction.text import TfidfVectorizer\n",
    "from sklearn.feature_extraction.text import CountVectorizer\n",
    "from sklearn.feature_extraction import text \n",
    "import copy"
   ]
  },
  {
   "cell_type": "code",
   "execution_count": 2,
   "metadata": {
    "collapsed": false
   },
   "outputs": [
    {
     "data": {
      "text/plain": [
       "array([[0, 1, 1, ..., 1, 0, 1],\n",
       "       [0, 1, 0, ..., 1, 0, 1],\n",
       "       [1, 0, 0, ..., 1, 1, 0],\n",
       "       ..., \n",
       "       [0, 1, 1, ..., 1, 0, 1],\n",
       "       [0, 1, 1, ..., 1, 0, 1],\n",
       "       [0, 1, 1, ..., 1, 0, 1]])"
      ]
     },
     "execution_count": 2,
     "metadata": {},
     "output_type": "execute_result"
    }
   ],
   "source": [
    "corpus = [\n",
    "    'This is the first document.',\n",
    "    'This is the second second document.',\n",
    "    'And the third one.',\n",
    "    'Is this the first document?',\n",
    "    'This is the first document.',\n",
    "    'This is the second second document.',\n",
    "    'And the third one.',\n",
    "    'Is this the first document?',\n",
    "    'This is the first document.',\n",
    "    'This is the second second document.',\n",
    "    'And the third one.',\n",
    "    'Is this the first document?',\n",
    "    'This is the first document.',\n",
    "    'This is the second second document.',\n",
    "    'And the third one.',\n",
    "    'Is this the first document?',   \n",
    "    'This is the first document.',\n",
    "    'This is the second second document.',\n",
    "    'And the third one.',\n",
    "    'Is this the first document?',   \n",
    "    'This is the first document.',\n",
    "    'This is the second second document.',\n",
    "    'And the third one.',\n",
    "    'Is this the first document?',\n",
    "]\n",
    "    \n",
    "for i in range(10000):\n",
    "    corpus.append( 'Is this the first document?')\n",
    "\n",
    "\n",
    "vectorizer = CountVectorizer(min_df=1)\n",
    "\n",
    "X = vectorizer.fit_transform(corpus)\n",
    "X.toarray()"
   ]
  },
  {
   "cell_type": "code",
   "execution_count": 4,
   "metadata": {
    "collapsed": false
   },
   "outputs": [
    {
     "name": "stdout",
     "output_type": "stream",
     "text": [
      ". . . . ."
     ]
    },
    {
     "data": {
      "text/plain": [
       "[6, 10018, 10012, 10018, 6]"
      ]
     },
     "execution_count": 4,
     "metadata": {},
     "output_type": "execute_result"
    },
    {
     "name": "stdout",
     "output_type": "stream",
     "text": [
      "\n"
     ]
    }
   ],
   "source": [
    "def get_columns_sum(matrix):\n",
    "    rows_count = matrix.getnnz()\n",
    "    \n",
    "    if rows_count == 0:\n",
    "        return \n",
    "    \n",
    "    first_row = matrix[0]\n",
    "    columns_count = first_row.getnnz()\n",
    "    \n",
    "    result = []\n",
    "    \n",
    "    for i in range(columns_count):\n",
    "        print \".\",\n",
    "        result.append(sum(matrix[:,i])[0,0])\n",
    "    \n",
    "    return result\n",
    "    \n",
    "\n",
    "summ = get_columns_sum(X)\n",
    "summ"
   ]
  },
  {
   "cell_type": "code",
   "execution_count": 8,
   "metadata": {
    "collapsed": false
   },
   "outputs": [
    {
     "name": "stdout",
     "output_type": "stream",
     "text": [
      "[(u'the', 10024), (u'this', 10018), (u'is', 10018), (u'document', 10018), (u'first', 10012), (u'second', 12), (u'and', 6), (u'third', 6), (u'one', 6)]\n"
     ]
    }
   ],
   "source": [
    "freqs = [(word, X.getcol(idx).sum()) for word, idx in vectorizer.vocabulary_.items()]\n",
    "#sort from largest to smallest\n",
    "print sorted (freqs, key = lambda x: -x[1])"
   ]
  },
  {
   "cell_type": "code",
   "execution_count": null,
   "metadata": {
    "collapsed": true
   },
   "outputs": [],
   "source": []
  }
 ],
 "metadata": {
  "kernelspec": {
   "display_name": "Python [Root]",
   "language": "python",
   "name": "Python [Root]"
  },
  "language_info": {
   "codemirror_mode": {
    "name": "ipython",
    "version": 2
   },
   "file_extension": ".py",
   "mimetype": "text/x-python",
   "name": "python",
   "nbconvert_exporter": "python",
   "pygments_lexer": "ipython2",
   "version": "2.7.12"
  }
 },
 "nbformat": 4,
 "nbformat_minor": 0
}
