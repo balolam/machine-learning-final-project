{
 "cells": [
  {
   "cell_type": "code",
   "execution_count": 1,
   "metadata": {
    "collapsed": true
   },
   "outputs": [],
   "source": [
    "from facebook import GraphAPI\n",
    "from facebook_database_helper import SimpleFacebookDBHelper\n",
    "from facebook_database_helper import NameRelation\n",
    "\n",
    "from elasticsearch import Elasticsearch\n",
    "\n",
    "import time as t\n",
    "import requests\n",
    "import re"
   ]
  },
  {
   "cell_type": "code",
   "execution_count": 2,
   "metadata": {
    "collapsed": true
   },
   "outputs": [],
   "source": [
    "def time():\n",
    "    return int(round(t.time() * 1000))"
   ]
  },
  {
   "cell_type": "code",
   "execution_count": 3,
   "metadata": {
    "collapsed": true
   },
   "outputs": [],
   "source": [
    "def constant(func):\n",
    "    # noinspection SpellCheckingInspection\n",
    "    def funcset(self, value):\n",
    "        raise TypeError\n",
    "\n",
    "    # noinspection SpellCheckingInspection\n",
    "    def funcget(self):\n",
    "        return func()\n",
    "\n",
    "    return property(funcget, funcset)\n",
    "\n",
    "\n",
    "# noinspection PyPep8Naming,PyMethodParameters\n",
    "class _Const(object):\n",
    "    @constant\n",
    "    def FACEBOOK_TOKEN():\n",
    "        return \"1769775703259571|736fc7f9c5dc31707d40709a1d37813b\"\n",
    "\n",
    "    @constant\n",
    "    def FACEBOOK_POSTS_COUNT():\n",
    "        return 3000\n",
    "\n",
    "    @constant\n",
    "    def ES_INDEX():\n",
    "        return \"fb_group_posts\"\n",
    "\n",
    "    @constant\n",
    "    def ES_POSTS_DOC_TYPE():\n",
    "        return \"post\"\n",
    "    \n",
    "    @constant\n",
    "    def ES_NAMES_RELATIONS_DOC_TYPE():\n",
    "        return \"name_relations\"\n",
    "    \n",
    "    @constant\n",
    "    def ES_BULK_SIZE():\n",
    "        return 500\n",
    "\n",
    "\n",
    "CONST = _Const()"
   ]
  },
  {
   "cell_type": "code",
   "execution_count": 4,
   "metadata": {
    "collapsed": true
   },
   "outputs": [],
   "source": [
    "class Group(object):\n",
    "    def __init__(self, name, id, domain):\n",
    "        self.name = name\n",
    "        self.id = id\n",
    "        self.domain = domain\n",
    "        \n",
    "groups = [\n",
    "#     Group(name=\"CNN Politics\", id=\"219367258105115\", domain=\"politics\"),\n",
    "#     Group(name=\"SinoRuss\", id=\"1565161760380398\", domain=\"politics\"),\n",
    "#     Group(name=\"Politics & Sociology\", id=\"1616754815303974\", domain=\"politics\"),\n",
    "#     Group(name=\"CNN Money\", id=\"6651543066\", domain=\"finances\"),\n",
    "#     Group(name=\"MTV\", id=\"7245371700\", domain=\"music\"),\n",
    "#     Group(name=\"CNET\", id=\"7155422274\", domain=\"tech\"),\n",
    "#     Group(name=\"TechCrunch\", id=\"8062627951\", domain=\"tech\"),\n",
    "#     Group(name=\"Sport Addicts\", id=\"817513368382866\", domain=\"sport\"),\n",
    "#     Group(name=\"Pokemon GO\", id=\"1745029562403910\", domain=\"pokemon go\")\n",
    "]"
   ]
  },
  {
   "cell_type": "code",
   "execution_count": 5,
   "metadata": {
    "collapsed": true
   },
   "outputs": [],
   "source": [
    "database = Elasticsearch()"
   ]
  },
  {
   "cell_type": "code",
   "execution_count": 6,
   "metadata": {
    "collapsed": false
   },
   "outputs": [],
   "source": [
    "graph = GraphAPI(access_token=CONST.FACEBOOK_TOKEN)"
   ]
  },
  {
   "cell_type": "code",
   "execution_count": 7,
   "metadata": {
    "collapsed": false
   },
   "outputs": [],
   "source": [
    "fdb = SimpleFacebookDBHelper(\n",
    "    es=database, \n",
    "    index=CONST.ES_INDEX, \n",
    "    post_doc_type=CONST.ES_POSTS_DOC_TYPE, \n",
    "    name_relation_doc_type=CONST.ES_NAMES_RELATIONS_DOC_TYPE)"
   ]
  },
  {
   "cell_type": "code",
   "execution_count": 8,
   "metadata": {
    "collapsed": true
   },
   "outputs": [],
   "source": [
    "def pull_posts_from_pack(posts):\n",
    "    res = []\n",
    "\n",
    "    for p in posts['data']:\n",
    "        res.append(p)\n",
    "\n",
    "    return res"
   ]
  },
  {
   "cell_type": "code",
   "execution_count": 9,
   "metadata": {
    "collapsed": true
   },
   "outputs": [],
   "source": [
    "def prepare_get_posts_request(posts):\n",
    "    return posts['paging']['next'].replace(\"limit=25\", \"limit=100\")"
   ]
  },
  {
   "cell_type": "code",
   "execution_count": 10,
   "metadata": {
    "collapsed": true
   },
   "outputs": [],
   "source": [
    "def load_next_posts(posts, max_count):\n",
    "    result = []\n",
    "    count = 0\n",
    "\n",
    "    while True:\n",
    "        if count > max_count:\n",
    "            break\n",
    "\n",
    "        try:\n",
    "            result.extend(pull_posts_from_pack(posts))\n",
    "\n",
    "            request = prepare_get_posts_request(posts)\n",
    "\n",
    "            s_time = time()\n",
    "            posts = requests.get(request).json()\n",
    "            f_time = time()\n",
    "            \n",
    "            posts_count = len(posts['data'])\n",
    "            count += posts_count\n",
    "            \n",
    "            print \"Время загрузки пака постов ->\", (f_time - s_time), \"|\", \"кол-во:\", posts_count, \"|\", \"всего:\", count\n",
    "        except KeyError:\n",
    "            break\n",
    "\n",
    "    print \"Общее кол-во загруженных постов группы ->\", count\n",
    "\n",
    "    return result"
   ]
  },
  {
   "cell_type": "code",
   "execution_count": 11,
   "metadata": {
    "collapsed": false
   },
   "outputs": [],
   "source": [
    "for group in groups:\n",
    "    s_time = time()\n",
    "    group_json = graph.get_object(group.id)\n",
    "    f_time = time()\n",
    "    \n",
    "    print 'Время загрузки данных [', group_json['name'], '] группы ->', (f_time - s_time)\n",
    "    \n",
    "    s_time = time()\n",
    "    first_posts_pack = graph.get_connections(group_json['id'], 'feed')\n",
    "    f_time = time()\n",
    "    \n",
    "    print 'Время загрузки первого пака постов ->', (f_time - s_time)\n",
    "    \n",
    "    posts = load_next_posts(posts=first_posts_pack, max_count=CONST.FACEBOOK_POSTS_COUNT)\n",
    "    \n",
    "    s_time = time()\n",
    "    fdb.save_posts(group.name, group.domain, posts)\n",
    "    f_time = time()\n",
    "    \n",
    "    print \"Время сохранение постов в БД ->\", (f_time - s_time)\n",
    "    print \"-------------------------\""
   ]
  },
  {
   "cell_type": "code",
   "execution_count": 12,
   "metadata": {
    "collapsed": true
   },
   "outputs": [],
   "source": [
    "FIRST_LAST_NAME_PATTERN = \"(?<=\\s)([A-Z]{1}[a-z]+\\s{1}[A-Z]{1}[a-z]+(?=[\\s\\.\\,\\;\\:]))\""
   ]
  },
  {
   "cell_type": "code",
   "execution_count": 13,
   "metadata": {
    "collapsed": false
   },
   "outputs": [
    {
     "data": {
      "text/plain": [
       "21129"
      ]
     },
     "execution_count": 13,
     "metadata": {},
     "output_type": "execute_result"
    }
   ],
   "source": [
    "fdb.delete_all_name_relations()"
   ]
  },
  {
   "cell_type": "code",
   "execution_count": 14,
   "metadata": {
    "collapsed": false
   },
   "outputs": [
    {
     "name": "stdout",
     "output_type": "stream",
     "text": [
      "South China\n",
      "United States\n",
      "If China\n",
      "The Beijing\n",
      "Foreign Policy\n",
      "Pacific Ocean\n",
      "Manifest Destiny\n",
      "Pacific Power\n",
      "American Empire\n",
      "Zionist Jewish\n",
      "Wall Street\n",
      "Big Oil\n",
      "Big Business\n",
      "South China\n",
      "United States\n",
      "If China\n",
      "The Beijing\n",
      "Foreign Policy\n",
      "Pacific Ocean\n",
      "Manifest Destiny\n",
      "Pacific Power\n",
      "American Empire\n",
      "Zionist Jewish\n",
      "Wall Street\n",
      "Big Oil\n"
     ]
    },
    {
     "data": {
      "text/plain": [
       "21129"
      ]
     },
     "execution_count": 14,
     "metadata": {},
     "output_type": "execute_result"
    }
   ],
   "source": [
    "posts = fdb.get_all_posts()\n",
    "name_relations = []\n",
    "\n",
    "for post in posts:\n",
    "    message = post['_source']['message']\n",
    "    names = re.findall(FIRST_LAST_NAME_PATTERN, message)\n",
    "\n",
    "    if names:\n",
    "        id = post['_id']\n",
    "\n",
    "        for name in names:\n",
    "            name = name.replace(\".\", \"\")\n",
    "            relation = NameRelation(fl_name=name, post_id=id)\n",
    "            name_relations.append(relation)\n",
    "\n",
    "for i in range(min(len(name_relations), 25)):\n",
    "    relation = name_relations[i]\n",
    "    print relation.fl_name\n",
    "    \n",
    "len(name_relations)"
   ]
  },
  {
   "cell_type": "code",
   "execution_count": 15,
   "metadata": {
    "collapsed": false
   },
   "outputs": [
    {
     "name": "stdout",
     "output_type": "stream",
     "text": [
      "Время удаления старых отношений 'сообщение <=> имя' -> 1\n",
      "Удалено старых постов: 0\n"
     ]
    }
   ],
   "source": [
    "s_time = time()\n",
    "deleted_posts = fdb.delete_all_name_relations()\n",
    "f_time = time()\n",
    "\n",
    "print \"Время удаления старых отношений 'сообщение <=> имя' ->\", (f_time - s_time)\n",
    "print \"Удалено старых постов:\", deleted_posts"
   ]
  },
  {
   "cell_type": "code",
   "execution_count": 16,
   "metadata": {
    "collapsed": false
   },
   "outputs": [
    {
     "name": "stdout",
     "output_type": "stream",
     "text": [
      "Время сохранения новых отношений 'сообщение <=> имя' -> 9720\n"
     ]
    }
   ],
   "source": [
    "s_time = time()\n",
    "fdb.save_name_relations(name_relations)\n",
    "f_time = time()\n",
    "\n",
    "print \"Время сохранения новых отношений 'сообщение <=> имя' ->\", (f_time - s_time)"
   ]
  },
  {
   "cell_type": "code",
   "execution_count": 24,
   "metadata": {
    "collapsed": false
   },
   "outputs": [
    {
     "name": "stdout",
     "output_type": "stream",
     "text": [
      "Имя [ John Kerry ] найдено соответстивий: 17\n",
      "Пример сообщения: As U.S. Secretary of State John Kerry today completed his first one-on-one \"meet and confer\" meeting with new Philippines president Rodrigo Duterte..... these much are clear and do not look promising:\n",
      "\n",
      "1. Duterte signaled to John Kerry that any bilateral talks with China will have to be based on the July 12, 2016 Hague kangaroo tribunal arbitral ruling....... based on this, I think this is a \"non-starter\" and clearly this is contradictory to Duterte's personal envoy, Fidel V. Ramos, who has earlier this week disclosed thaty he is willing to have the Philippines set aside the Hague tribunal decision and engage China in bilateral negotiation to settle the dispute.\n",
      "\n",
      "It looks like now, there is incongruence between Duterte's position after his meeting with John Kerry and Fidel V. Ramos' earlier pronouncement.\n",
      "\n",
      "There really is no point in having Ramos go to China since this is a non-starter.\n",
      "\n",
      "It appears that Duterte is listening to his Foreign Affairs secretary Perfecto Yasay Jr. than on his personal China envoy, Former Philippines president Fidel V. Ramos...the senior 88-year grand old statesman of the Philippines.\n",
      "\n",
      "2. What is even more intriguing in Kerry's first meeting is that Kerry offered $32 million in aid for law enforcement training.  This is exactly the amount of the legal fee that the Philippines is on the hook to pay American Boston lawyer Paul Reichler, of Foley & Hoag.\n",
      "\n",
      "The U.S. is clearly behind the retainer of Paul Reichler and is now reimbursing and  paying back the Philippines the U.S.$ 32 million in the form of and disguised as law enforcement aid. \n",
      "\n",
      "Very cheap.... since the U.S. is now fiscally broke and can not talk \"B\" and instead talk in \"M\" terms.... millions only not billions, unlike China.\n",
      "\n",
      "All said, I am not hopeful that the impasse between the Philippines and China can be resolved anytime soon under new Philippines president Rodrigo Duterte.\n",
      "\n",
      "3. There is no \"initial softening and meeting of the minds,\" in appears, from the Philippines new president on the key fundamental core issue of the voidness and illegality of the Hague kangaroo tribunal jurisdictional issue.\n",
      "\n",
      "If Duterte insist that this Hague decision is meritorious and legal, then it is no go.... a non-starter...and there is no point in Chinese officials in Beijing in even considering opening bilateral negotiation to settle the dispute.\n",
      "\n",
      "Meanwhile, I would admonish all Chinese tourists to avoid visiting the Philippines because anti-Chinese sentiments still are raw and run strong. Don't spend money there and still get disrespected, as a Chinese female tourist arriving in Vietnam just yesterday got dissed by having her Chinese passport scribbled with the insulting words, \"Fuck you.\"\n",
      "\n",
      "I say all Chinese from overseas in Southeast Asia and inside China, in HKG, in Taiwan should avoid visiting Vietnam. Just boycott these assholes.\n",
      "\n",
      "China is a neighbor of Asia... and America is not in Asia.... so the countries of ASEAN, including the Philippines, will have to decide whether they want to be good neighbors with China or be servile American \"minions\" to waning American Empire. \n",
      "\n",
      "No Money... no Honey. And America now has no money. Pobre mga gago Kano !\n"
     ]
    }
   ],
   "source": [
    "searched_names = [\n",
    "    \"John Kerry\"\n",
    "]\n",
    "\n",
    "for name in searched_names:\n",
    "    messages = fdb.find_messages_by_fl_name(name)\n",
    "    print \"Имя [\", name, \"] найдено соответстивий:\", len(messages)\n",
    "    \n",
    "    if messages:\n",
    "        print \"Пример сообщения:\", messages[0]"
   ]
  },
  {
   "cell_type": "code",
   "execution_count": null,
   "metadata": {
    "collapsed": true
   },
   "outputs": [],
   "source": []
  }
 ],
 "metadata": {
  "kernelspec": {
   "display_name": "Python [Root]",
   "language": "python",
   "name": "Python [Root]"
  },
  "language_info": {
   "codemirror_mode": {
    "name": "ipython",
    "version": 2
   },
   "file_extension": ".py",
   "mimetype": "text/x-python",
   "name": "python",
   "nbconvert_exporter": "python",
   "pygments_lexer": "ipython2",
   "version": "2.7.12"
  }
 },
 "nbformat": 4,
 "nbformat_minor": 0
}
